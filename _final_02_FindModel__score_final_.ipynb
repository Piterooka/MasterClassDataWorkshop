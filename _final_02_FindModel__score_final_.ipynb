{
 "cells": [
  {
   "cell_type": "code",
   "execution_count": 1,
   "id": "1a6a0e8f-d25d-427b-bbad-35073905f03f",
   "metadata": {
    "execution": {
     "iopub.execute_input": "2021-07-05T17:32:26.457174Z",
     "iopub.status.busy": "2021-07-05T17:32:26.457174Z",
     "iopub.status.idle": "2021-07-05T17:32:27.593415Z",
     "shell.execute_reply": "2021-07-05T17:32:27.593415Z",
     "shell.execute_reply.started": "2021-07-05T17:32:26.457174Z"
    },
    "tags": []
   },
   "outputs": [],
   "source": [
    "import pandas as pd\n",
    "#from pandas_profiling import ProfileReport\n",
    "\n",
    "from scikitplot.estimators import plot_learning_curve\n",
    "from sklearn.ensemble import RandomForestRegressor\n",
    "\n",
    "import numpy as np\n",
    "\n",
    "import warnings\n",
    "warnings.filterwarnings('ignore')\n",
    "\n",
    "import gc\n",
    "import tables\n",
    "\n",
    "from sklearn.model_selection import train_test_split, cross_val_score, KFold\n",
    "\n",
    "import xgboost as xgb\n",
    "import eli5\n",
    "\n",
    "from sklearn.metrics import r2_score\n",
    "from sklearn.metrics import mean_absolute_error\n",
    "\n",
    "import matplotlib.pyplot as plt"
   ]
  },
  {
   "cell_type": "code",
   "execution_count": 2,
   "id": "4aa78159-be02-483a-acf3-6163ac862c38",
   "metadata": {
    "execution": {
     "iopub.execute_input": "2021-07-05T17:32:32.660374Z",
     "iopub.status.busy": "2021-07-05T17:32:32.660374Z",
     "iopub.status.idle": "2021-07-05T17:32:33.812471Z",
     "shell.execute_reply": "2021-07-05T17:32:33.812471Z",
     "shell.execute_reply.started": "2021-07-05T17:32:32.660374Z"
    },
    "tags": []
   },
   "outputs": [
    {
     "name": "stdout",
     "output_type": "stream",
     "text": [
      "#### import data\n",
      "train & test:  (22732, 8) (11448, 7)\n"
     ]
    }
   ],
   "source": [
    "print(\"#### import data\")\n",
    "train = pd.read_hdf('../input/train_data.h5')\n",
    "test = pd.read_hdf('../input/test_data.h5') \n",
    "df_all = pd.concat([train, test], axis=0)\n",
    "print(\"train & test: \", train.shape, test.shape)"
   ]
  },
  {
   "cell_type": "code",
   "execution_count": 3,
   "id": "55e2d560-9d63-49db-bb62-cfa47c616ca7",
   "metadata": {
    "execution": {
     "iopub.execute_input": "2021-07-05T17:32:34.020589Z",
     "iopub.status.busy": "2021-07-05T17:32:34.020589Z",
     "iopub.status.idle": "2021-07-05T17:32:34.060104Z",
     "shell.execute_reply": "2021-07-05T17:32:34.060104Z",
     "shell.execute_reply.started": "2021-07-05T17:32:34.020589Z"
    },
    "tags": []
   },
   "outputs": [
    {
     "data": {
      "text/html": [
       "<div>\n",
       "<style scoped>\n",
       "    .dataframe tbody tr th:only-of-type {\n",
       "        vertical-align: middle;\n",
       "    }\n",
       "\n",
       "    .dataframe tbody tr th {\n",
       "        vertical-align: top;\n",
       "    }\n",
       "\n",
       "    .dataframe thead th {\n",
       "        text-align: right;\n",
       "    }\n",
       "</style>\n",
       "<table border=\"1\" class=\"dataframe\">\n",
       "  <thead>\n",
       "    <tr style=\"text-align: right;\">\n",
       "      <th></th>\n",
       "      <th>geo_block</th>\n",
       "      <th>breadcrumbs</th>\n",
       "      <th>price</th>\n",
       "      <th>owner</th>\n",
       "      <th>params</th>\n",
       "      <th>date</th>\n",
       "      <th>user_block</th>\n",
       "      <th>id</th>\n",
       "    </tr>\n",
       "  </thead>\n",
       "  <tbody>\n",
       "    <tr>\n",
       "      <th>0</th>\n",
       "      <td>[г. Москва, Лианозово, г. Москва, Лианозово]</td>\n",
       "      <td>[Москва, Лианозово, м. Алтуфьево, МЦК Лихоборы]</td>\n",
       "      <td>5 402 084 ₽</td>\n",
       "      <td>[]</td>\n",
       "      <td>{'Охрана:': 'закрытая территория', 'Тип здания...</td>\n",
       "      <td>[22 апреля, 12, (+1 за сегодня), Обновлено 18 ...</td>\n",
       "      <td>[&lt;div class=\"block-user__name\"&gt;НДВ Недвижимост...</td>\n",
       "      <td>34995</td>\n",
       "    </tr>\n",
       "    <tr>\n",
       "      <th>1</th>\n",
       "      <td>[г. Москва, Ховрино, г. Москва, Ховрино]</td>\n",
       "      <td>[Москва, Ховрино, м. Ховрино, МЦК Коптево]</td>\n",
       "      <td>6 827 990 ₽</td>\n",
       "      <td>[]</td>\n",
       "      <td>{'Лифт:': 'да', 'Тип здания:': 'Монолитное', '...</td>\n",
       "      <td>[10 мая, 2, (+1 за сегодня), Обновлено 16 мая]</td>\n",
       "      <td>[&lt;div class=\"block-user__name\"&gt;MR-Group&lt;/div&gt;,...</td>\n",
       "      <td>15030</td>\n",
       "    </tr>\n",
       "    <tr>\n",
       "      <th>2</th>\n",
       "      <td>[г. Москва, ул Лобачевского, г. Москва, ул Лоб...</td>\n",
       "      <td>[Москва, МЦК Кутузовская, ул. Лобачевского]</td>\n",
       "      <td>8 680 000 ₽</td>\n",
       "      <td>[ЖК \"Крылья\". Доп. скидка 5%!]</td>\n",
       "      <td>{'Лифт:': 'да', 'Охрана:': 'закрытая территори...</td>\n",
       "      <td>[20 марта, 12, (+2 за сегодня), Обновлено 18 мая]</td>\n",
       "      <td>[]</td>\n",
       "      <td>37811</td>\n",
       "    </tr>\n",
       "    <tr>\n",
       "      <th>3</th>\n",
       "      <td>[г. Москва, Ховрино, ул Дыбенко, г. Москва, Хо...</td>\n",
       "      <td>[Москва, Ховрино, м. Ховрино, МЦК Коптево, ул....</td>\n",
       "      <td>8 624 435 ₽</td>\n",
       "      <td>[]</td>\n",
       "      <td>{'Лифт:': 'да', 'Тип здания:': 'Монолитное', '...</td>\n",
       "      <td>[29 апреля, 3, (+1 за сегодня), Обновлено 13 мая]</td>\n",
       "      <td>[&lt;div class=\"block-user__name\"&gt;MR-Group&lt;/div&gt;,...</td>\n",
       "      <td>31685</td>\n",
       "    </tr>\n",
       "    <tr>\n",
       "      <th>4</th>\n",
       "      <td>[г. Москва, Даниловский, г. Москва, Даниловский]</td>\n",
       "      <td>[Москва, Даниловский, м. Автозаводская, МЦК Ав...</td>\n",
       "      <td>29 500 000 ₽</td>\n",
       "      <td>[]</td>\n",
       "      <td>{'Общая площадь:': '141.1 м²', 'Дата публикаци...</td>\n",
       "      <td>[15 декабря 2018, 30, (+1 за сегодня), Обновле...</td>\n",
       "      <td>[&lt;div class=\"block-user__name\"&gt;Наталья Вдовиче...</td>\n",
       "      <td>56215</td>\n",
       "    </tr>\n",
       "    <tr>\n",
       "      <th>...</th>\n",
       "      <td>...</td>\n",
       "      <td>...</td>\n",
       "      <td>...</td>\n",
       "      <td>...</td>\n",
       "      <td>...</td>\n",
       "      <td>...</td>\n",
       "      <td>...</td>\n",
       "      <td>...</td>\n",
       "    </tr>\n",
       "    <tr>\n",
       "      <th>11443</th>\n",
       "      <td>[г. Москва, г. Москва]</td>\n",
       "      <td>[Москва, МЦК Кутузовская]</td>\n",
       "      <td>NaN</td>\n",
       "      <td>[]</td>\n",
       "      <td>{'Лифт:': 'да', 'Охрана:': 'предусмотрена', 'Т...</td>\n",
       "      <td>[17 мая, 3, (+2 за сегодня)]</td>\n",
       "      <td>[&lt;div class=\"block-user__name\"&gt;MR Group&lt;/div&gt;,...</td>\n",
       "      <td>47294</td>\n",
       "    </tr>\n",
       "    <tr>\n",
       "      <th>11444</th>\n",
       "      <td>[г. Москва, Хорошёво-Мнёвники, г. Москва, Хоро...</td>\n",
       "      <td>[Москва, Хорошёво-Мнёвники, м. Октябрьское пол...</td>\n",
       "      <td>NaN</td>\n",
       "      <td>[]</td>\n",
       "      <td>{'Лифт:': 'да', 'Охрана:': 'предусмотрена', 'Т...</td>\n",
       "      <td>[16 мая, 1, (+1 за сегодня)]</td>\n",
       "      <td>[&lt;div class=\"block-user__name\"&gt;Офис продаж ЖК ...</td>\n",
       "      <td>14091</td>\n",
       "    </tr>\n",
       "    <tr>\n",
       "      <th>11445</th>\n",
       "      <td>[г. Москва, Ховрино, г. Москва, Ховрино]</td>\n",
       "      <td>[Москва, Ховрино, м. Ховрино, МЦК Коптево]</td>\n",
       "      <td>NaN</td>\n",
       "      <td>[]</td>\n",
       "      <td>{'Лифт:': 'да', 'Тип здания:': 'Монолитное', '...</td>\n",
       "      <td>[10 мая, 1, (+1 за сегодня), Обновлено 16 мая]</td>\n",
       "      <td>[&lt;div class=\"block-user__name\"&gt;MR-Group&lt;/div&gt;,...</td>\n",
       "      <td>13059</td>\n",
       "    </tr>\n",
       "    <tr>\n",
       "      <th>11446</th>\n",
       "      <td>[Новая Москва, п. Внуковское, г. Москва, Новая...</td>\n",
       "      <td>[Москва, Новая Москва, п. Внуковское, МЦК Куту...</td>\n",
       "      <td>NaN</td>\n",
       "      <td>[Переделкино Ближнее]</td>\n",
       "      <td>{'Лифт:': 'да', 'Охрана:': 'консьерж', 'Тип зд...</td>\n",
       "      <td>[вчера в 10:14, 2, (+2 за сегодня)]</td>\n",
       "      <td>[]</td>\n",
       "      <td>10144</td>\n",
       "    </tr>\n",
       "    <tr>\n",
       "      <th>11447</th>\n",
       "      <td>[г. Москва, Ярославский, ул Красная Сосна, г. ...</td>\n",
       "      <td>[Москва, Ярославский, МЦК Ростокино, ул. Красн...</td>\n",
       "      <td>NaN</td>\n",
       "      <td>[]</td>\n",
       "      <td>{'Лифт:': 'да', 'Охрана:': 'предусмотрена', 'Т...</td>\n",
       "      <td>[16 января, 26, (+1 за сегодня), Обновлено 13 ...</td>\n",
       "      <td>[&lt;div class=\"block-user__name\"&gt;ФСК Лидер&lt;/div&gt;...</td>\n",
       "      <td>31002</td>\n",
       "    </tr>\n",
       "  </tbody>\n",
       "</table>\n",
       "<p>34180 rows × 8 columns</p>\n",
       "</div>"
      ],
      "text/plain": [
       "                                               geo_block  \\\n",
       "0           [г. Москва, Лианозово, г. Москва, Лианозово]   \n",
       "1               [г. Москва, Ховрино, г. Москва, Ховрино]   \n",
       "2      [г. Москва, ул Лобачевского, г. Москва, ул Лоб...   \n",
       "3      [г. Москва, Ховрино, ул Дыбенко, г. Москва, Хо...   \n",
       "4       [г. Москва, Даниловский, г. Москва, Даниловский]   \n",
       "...                                                  ...   \n",
       "11443                             [г. Москва, г. Москва]   \n",
       "11444  [г. Москва, Хорошёво-Мнёвники, г. Москва, Хоро...   \n",
       "11445           [г. Москва, Ховрино, г. Москва, Ховрино]   \n",
       "11446  [Новая Москва, п. Внуковское, г. Москва, Новая...   \n",
       "11447  [г. Москва, Ярославский, ул Красная Сосна, г. ...   \n",
       "\n",
       "                                             breadcrumbs         price  \\\n",
       "0        [Москва, Лианозово, м. Алтуфьево, МЦК Лихоборы]   5 402 084 ₽   \n",
       "1             [Москва, Ховрино, м. Ховрино, МЦК Коптево]   6 827 990 ₽   \n",
       "2            [Москва, МЦК Кутузовская, ул. Лобачевского]   8 680 000 ₽   \n",
       "3      [Москва, Ховрино, м. Ховрино, МЦК Коптево, ул....   8 624 435 ₽   \n",
       "4      [Москва, Даниловский, м. Автозаводская, МЦК Ав...  29 500 000 ₽   \n",
       "...                                                  ...           ...   \n",
       "11443                          [Москва, МЦК Кутузовская]           NaN   \n",
       "11444  [Москва, Хорошёво-Мнёвники, м. Октябрьское пол...           NaN   \n",
       "11445         [Москва, Ховрино, м. Ховрино, МЦК Коптево]           NaN   \n",
       "11446  [Москва, Новая Москва, п. Внуковское, МЦК Куту...           NaN   \n",
       "11447  [Москва, Ярославский, МЦК Ростокино, ул. Красн...           NaN   \n",
       "\n",
       "                                owner  \\\n",
       "0                                  []   \n",
       "1                                  []   \n",
       "2      [ЖК \"Крылья\". Доп. скидка 5%!]   \n",
       "3                                  []   \n",
       "4                                  []   \n",
       "...                               ...   \n",
       "11443                              []   \n",
       "11444                              []   \n",
       "11445                              []   \n",
       "11446           [Переделкино Ближнее]   \n",
       "11447                              []   \n",
       "\n",
       "                                                  params  \\\n",
       "0      {'Охрана:': 'закрытая территория', 'Тип здания...   \n",
       "1      {'Лифт:': 'да', 'Тип здания:': 'Монолитное', '...   \n",
       "2      {'Лифт:': 'да', 'Охрана:': 'закрытая территори...   \n",
       "3      {'Лифт:': 'да', 'Тип здания:': 'Монолитное', '...   \n",
       "4      {'Общая площадь:': '141.1 м²', 'Дата публикаци...   \n",
       "...                                                  ...   \n",
       "11443  {'Лифт:': 'да', 'Охрана:': 'предусмотрена', 'Т...   \n",
       "11444  {'Лифт:': 'да', 'Охрана:': 'предусмотрена', 'Т...   \n",
       "11445  {'Лифт:': 'да', 'Тип здания:': 'Монолитное', '...   \n",
       "11446  {'Лифт:': 'да', 'Охрана:': 'консьерж', 'Тип зд...   \n",
       "11447  {'Лифт:': 'да', 'Охрана:': 'предусмотрена', 'Т...   \n",
       "\n",
       "                                                    date  \\\n",
       "0      [22 апреля, 12, (+1 за сегодня), Обновлено 18 ...   \n",
       "1         [10 мая, 2, (+1 за сегодня), Обновлено 16 мая]   \n",
       "2      [20 марта, 12, (+2 за сегодня), Обновлено 18 мая]   \n",
       "3      [29 апреля, 3, (+1 за сегодня), Обновлено 13 мая]   \n",
       "4      [15 декабря 2018, 30, (+1 за сегодня), Обновле...   \n",
       "...                                                  ...   \n",
       "11443                       [17 мая, 3, (+2 за сегодня)]   \n",
       "11444                       [16 мая, 1, (+1 за сегодня)]   \n",
       "11445     [10 мая, 1, (+1 за сегодня), Обновлено 16 мая]   \n",
       "11446                [вчера в 10:14, 2, (+2 за сегодня)]   \n",
       "11447  [16 января, 26, (+1 за сегодня), Обновлено 13 ...   \n",
       "\n",
       "                                              user_block     id  \n",
       "0      [<div class=\"block-user__name\">НДВ Недвижимост...  34995  \n",
       "1      [<div class=\"block-user__name\">MR-Group</div>,...  15030  \n",
       "2                                                     []  37811  \n",
       "3      [<div class=\"block-user__name\">MR-Group</div>,...  31685  \n",
       "4      [<div class=\"block-user__name\">Наталья Вдовиче...  56215  \n",
       "...                                                  ...    ...  \n",
       "11443  [<div class=\"block-user__name\">MR Group</div>,...  47294  \n",
       "11444  [<div class=\"block-user__name\">Офис продаж ЖК ...  14091  \n",
       "11445  [<div class=\"block-user__name\">MR-Group</div>,...  13059  \n",
       "11446                                                 []  10144  \n",
       "11447  [<div class=\"block-user__name\">ФСК Лидер</div>...  31002  \n",
       "\n",
       "[34180 rows x 8 columns]"
      ]
     },
     "execution_count": 3,
     "metadata": {},
     "output_type": "execute_result"
    }
   ],
   "source": [
    "df_all"
   ]
  },
  {
   "cell_type": "markdown",
   "id": "76413ce4-83cb-4599-aaf3-b1027fca0cd6",
   "metadata": {},
   "source": [
    "# FEATURE ENGINEER"
   ]
  },
  {
   "cell_type": "markdown",
   "id": "7785421a-6636-4446-b380-d1d2111021a5",
   "metadata": {},
   "source": [
    "## ==> FUNCTIONS"
   ]
  },
  {
   "cell_type": "code",
   "execution_count": 4,
   "id": "1fde17df-7230-4957-9d8c-341ac93ee295",
   "metadata": {
    "execution": {
     "iopub.execute_input": "2021-07-05T17:32:39.335686Z",
     "iopub.status.busy": "2021-07-05T17:32:39.335686Z",
     "iopub.status.idle": "2021-07-05T17:32:39.351830Z",
     "shell.execute_reply": "2021-07-05T17:32:39.350829Z",
     "shell.execute_reply.started": "2021-07-05T17:32:39.335686Z"
    },
    "tags": []
   },
   "outputs": [],
   "source": [
    "def parse_price(val):\n",
    "    if isinstance(val, str): \n",
    "        if \"₽\" in val:\n",
    "            val = val.split('₽')[0]\n",
    "            \n",
    "        val = val.replace(' ', '')\n",
    "        return int(val) / 1000000\n",
    "    \n",
    "    return float(val)\n",
    "\n",
    "def extract_geoblock(vals):\n",
    "    vals = vals[: int(len(vals) / 2)]\n",
    "    return {\"geo_block_{}\".format(idx):val.strip().lower() for idx, val in enumerate(vals)}\n",
    "\n",
    "def extract_breadcrumbs(vals):\n",
    "    vals = vals[: int(len(vals) / 2)]\n",
    "    return {\"breadcrumbs{}\".format(idx):val.strip().lower() for idx, val in enumerate(vals)}\n",
    "\n",
    "#SPLIT DATA\n",
    "def split_breadcrumbs(row, string):\n",
    "    result = \"-1\"\n",
    "    len_ = len(row)\n",
    "    for x in range(len_):\n",
    "        if string in row[x]:\n",
    "            result = row[x]\n",
    "\n",
    "    return result\n",
    "\n",
    "\n",
    "def split_date(row, idx):\n",
    "    result = \"-1\"\n",
    "    len_ = len(row)\n",
    "    if len_ > idx:\n",
    "        result = row[idx]\n",
    "\n",
    "    return result\n",
    "\n",
    "def split_date_DMY(row, idx):\n",
    "    result = \"-1\"\n",
    "    \n",
    "    date_ = row.split(' ')\n",
    "    len_ = len(date_)\n",
    "    if len_ > idx:\n",
    "        result = date_[idx]\n",
    "        if \"сегодня\" in result:\n",
    "            result = \"+2\"\n",
    "        if \"вчера\" in result:\n",
    "            result = \"+1\"\n",
    "        if \":\" in result:\n",
    "            result = \"-1\"\n",
    "            \n",
    "    return result\n",
    "\n",
    "def parse_area(val):\n",
    "    if isinstance(val, int): return val\n",
    "    if isinstance(val, float): return val\n",
    "    \n",
    "    return float(val.split(\"м\")[0].replace(\" \", \"\"))\n",
    "\n",
    "def check_model(df, feats, model, cv=5, scoring=\"neg_mean_absolute_error\"):\n",
    "    df_train = df[ ~df[\"price\"].isnull() ].copy()\n",
    "    df_test = df[ df[\"price\"].isnull() ].copy()\n",
    "\n",
    "    X_train = df_train[feats]\n",
    "    y_train = df_train[\"price\"]\n",
    "\n",
    "    X_test = df_test[feats]\n",
    "    \n",
    "    \n",
    "    scores = cross_val_score(model, X_train, y_train, cv=cv, scoring=scoring)\n",
    "    \n",
    "    plot_learning_curve(model, X_train, y_train, cv=cv, random_state=0, shuffle=True)\n",
    "    plt.show()\n",
    "    \n",
    "    return np.mean(scores), np.std(scores)"
   ]
  },
  {
   "cell_type": "code",
   "execution_count": 5,
   "id": "2f3ad743-b442-4d5e-a9aa-9be3645ee501",
   "metadata": {
    "execution": {
     "iopub.execute_input": "2021-07-05T17:32:44.897668Z",
     "iopub.status.busy": "2021-07-05T17:32:44.897668Z",
     "iopub.status.idle": "2021-07-05T17:32:44.921197Z",
     "shell.execute_reply": "2021-07-05T17:32:44.920196Z",
     "shell.execute_reply.started": "2021-07-05T17:32:44.897668Z"
    },
    "tags": []
   },
   "outputs": [],
   "source": [
    "#month\n",
    "month = pd.DataFrame({ \"date_0_1\" : [\"января\",\"февраля\",\"марта\",\"апреля\",\"мая\",\n",
    "                                     \"июня\",\"июля\",\"августа\",\"сентября\",\n",
    "                                     \"октября\",\"ноября\",\"декабря\" ],\n",
    "                       \"date_month_cat\" : ['01','02','03','04','05','06','07',\n",
    "                                          '08','09','10','11','12']\n",
    "                    })\n",
    "\n",
    "# STACJE METRA, WSPÓŁRZĘDNE, ODLEGŁOŚCI OD:\n",
    "# PLACU CZERWONEGO\n",
    "# LOTNISK\n",
    "metro_stations = pd.DataFrame({\n",
    "\"breadcrumbs_MCK\":[\n",
    "         \"МЦК Крымская\",\"МЦК Кутузовская\",\"МЦК Шелепиха\",\"МЦК Лужники\",\"МЦК Коптево\",\"МЦК Хорошёво\",\n",
    "         \"МЦК ЗИЛ\",\"МЦК Шоссе Энтузиастов\",\"МЦК Нижегородская\",\"МЦК Угрешская\",\"МЦК Владыкино\",\n",
    "         \"МЦК Лихоборы\",\"МЦК Ботанический сад\",\"МЦК Балтийская\",\"МЦК Зорге\",\"МЦК Ростокино\",\n",
    "         \"МЦК Локомотив\",\"МЦК Деловой центр\",\"МЦК Андроновка\",\"МЦК Новохохловская\",\"МЦК Соколиная Гора\",\n",
    "         \"МЦК Стрешнево\",\"МЦК Площадь Гагарина\",\"МЦК Окружная\",\"МЦК Панфиловская\",\"МЦК Верхние Котлы\",\n",
    "         \"МЦК Дубровка\",\"МЦК Бульвар Рокоссовского\",\"МЦК Автозаводская\",\"МЦК Белокаменная\",\"МЦК Измайлово\"\n",
    "        ],\n",
    " \"N_cat\"    :[\n",
    "     55.689996,55.739723,55.759055,55.720938,55.8339615,55.777063,\n",
    "     55.697998,55.758903,55.732153,55.7172056,55.8460453,\n",
    "     55.8461625,55.8456095,55.8245848,55.7889196,55.84286,\n",
    "     55.8032813,55.7477698,55.7459043,55.7240081,55.7715129,\n",
    "     55.813731,55.706997,55.8488708,55.7990171,55.690124,\n",
    "     55.7126485,55.817222,55.706525,55.8247339,55.7884887\n",
    " ],\n",
    " \"E_cat\"    :[\n",
    "     37.6030233,37.5322383,37.5204276,37.5578673,37.5095698,37.5052353,\n",
    "     37.6455663,37.7438224,37.7259292,37.694126,37.5871309,\n",
    "     37.57181,37.6375244,37.4928893,37.5017478,37.6630943,\n",
    "     37.7431398,37.5298063,37.7356328,37.7143756,37.7429271,\n",
    "     37.4848013,37.5841133,37.5699377,37.4967285,37.6165353,\n",
    "     37.675508,37.7347544,37.6612083,37.6935242,37.7423137     \n",
    " ],\n",
    " \"dist_to_red_square_cat\" :[\n",
    "     0.065474699499651200,0.087583479903288500,0.098447525258996600,0.069047169411717700,0.135566934589415000,0.115894398869703000,\n",
    "     0.061707928222957200,0.125214708292993000,0.109324042363335000,0.083710909065539700,0.097730971999673100,\n",
    "     0.103806377065432000,0.093949381526707200,0.144492862318421000,0.122201190447971000,0.099715880839365500,\n",
    "     0.133985005816959000,0.089103788900196600,0.117161550121057000,0.100115116606079000,0.125496038555646000,\n",
    "     0.146816601480113000,0.058016705643890100,0.107069396626726000,0.130186815633074000,0.063474566769454200,\n",
    "     0.069989344485068300,0.132349246777230000,0.063383649850489500,0.103252166733923000,0.128432603636457000\n",
    " ],\n",
    " \"dist_to_airport_Szere_cat\":[\n",
    "     0.296360388194812000,0.230551909339703000,0.224014637566945000,0.252853413120291000,0.247605377828677000,0.216000276998391000,\n",
    "     0.338948568412645000,0.442235366506402000,0.421173209378202000,0.388272034151328000,0.319959674379398000,\n",
    "     0.306677693421351000,0.364755362770447000,0.228569990859038000,0.217807025951987000,0.387018390667653000,\n",
    "     0.450421186246167000,0.229989094738207000,0.432330698167272000,0.408956539604296000,0.443435782471661000,\n",
    "     0.215726846441931000,0.277845867499556000,0.306437585575431000,0.218094277412802000,0.309871258872106000,\n",
    "     0.369412974341512000,0.446010492707349000,0.354833843221558000,0.408977175985263000,0.446191310536960000\n",
    "\n",
    " ],\n",
    " \"dist_to_airport_Domod_cat\":[\n",
    "     0.280352599357255000,0.341505576431436000,0.363322450119583000,0.317243187838553000,0.438396276839995000,0.384985918522181000,\n",
    "     0.288630376759217000,0.369170636618699000,0.338118239531228000,0.315191688822688000,0.437155363452810000,\n",
    "     0.438770252015069000,0.435568753432807000,0.434019909475090000,0.397341648226938000,0.434472516266529000,\n",
    "     0.411133993349334000,0.349908952325272000,0.354217392443069000,0.326934821351179000,0.380815829261124000,\n",
    "     0.426212235233535000,0.299137479860966000,0.441678723023929000,0.408489652356089000,0.279876472868956000,\n",
    "     0.306987858059841000,0.422168110091536000,0.298762491551681000,0.420502840941041000,0.396767924663372000\n",
    "\n",
    " ],\n",
    " \"dist_to_airport_Wnuko_cat\":[\n",
    "     0.296363998094992000,0.230497277313749000,0.223934803143412000,0.252824010555265000,0.247450606297197000,0.215894638429606000,\n",
    "     0.338945492302891000,0.442195833660878000,0.421148940052902000,0.388256068177328000,0.319830009818745000,\n",
    "     0.306542226606790000,0.364642174455572000,0.228413390746622000,0.217687396939553000,0.386913757493900000,\n",
    "     0.450355517985038000,0.229924775435290000,0.432298423060469000,0.408936927525318000,0.443388603635436000,\n",
    "     0.215574576576760000,0.277832934882547000,0.306299593354689000,0.217962145505179000,0.309874668582722000,\n",
    "     0.369399474317778000,0.445935626128301000,0.354824426806060000,0.408890361344124000,0.446134052143902000\n",
    " \n",
    "        \n",
    " ]\n",
    "})"
   ]
  },
  {
   "cell_type": "code",
   "execution_count": 6,
   "id": "c2d2f47b-cbc6-4a53-9f54-44147a2945cd",
   "metadata": {
    "execution": {
     "iopub.execute_input": "2021-07-05T17:35:29.741460Z",
     "iopub.status.busy": "2021-07-05T17:35:29.741460Z",
     "iopub.status.idle": "2021-07-05T17:35:53.433034Z",
     "shell.execute_reply": "2021-07-05T17:35:53.433034Z",
     "shell.execute_reply.started": "2021-07-05T17:35:29.741460Z"
    },
    "tags": []
   },
   "outputs": [
    {
     "name": "stdout",
     "output_type": "stream",
     "text": [
      "############ start extract\n",
      "#### extract price\n",
      "#### extract params\n",
      "#### extract geo_block\n",
      "#### extract breadcrumbs 1\n",
      "#### extract breadcrumbs 2\n",
      "#### extract date\n",
      "#### extract owner\n",
      "#### extract area\n",
      "############ end extract\n"
     ]
    }
   ],
   "source": [
    "print(\"############ start extract\") \n",
    "print(\"#### extract price\")  \n",
    "df_all['price'] = df_all['price'].map(parse_price)\n",
    "\n",
    "print(\"#### extract params\")  \n",
    "params = df_all[\"params\"].apply(pd.Series)\n",
    "params = params.fillna(-1)\n",
    "\n",
    "if \"Охрана:\" not in df_all:\n",
    "    df_all = pd.concat([df_all, params], axis=1)\n",
    "    \n",
    "obj_feats = params.select_dtypes(object).columns\n",
    "\n",
    "for feat in obj_feats:\n",
    "    df_all[\"{}_cat\".format(feat)] = df_all[feat].factorize()[0]    \n",
    "\n",
    "\n",
    "print(\"#### extract geo_block\")      \n",
    "df_geo_block = df_all[\"geo_block\"].map(extract_geoblock).apply(pd.Series)\n",
    "df_all = pd.concat([df_all, df_geo_block], axis=1)\n",
    "\n",
    "feats_geo_block = [ x for x in df_geo_block.columns]\n",
    "\n",
    "for f in feats_geo_block:\n",
    "    df_all[\"{}_cat\".format(f)] = df_all[f].factorize()[0]    \n",
    "    \n",
    "print(\"#### extract breadcrumbs 1\")      \n",
    "df_breadcrumbs = df_all[\"breadcrumbs\"].map(extract_breadcrumbs).apply(pd.Series)\n",
    "df_all = pd.concat([df_all, df_breadcrumbs], axis=1)\n",
    "\n",
    "feats_breadcrumbs = [ x for x in df_breadcrumbs.columns]\n",
    "for f in feats_breadcrumbs:\n",
    "    df_all[\"{}_cat\".format(f)] = df_all[f].factorize()[0]\n",
    "    \n",
    "#breadcrumbs = (\n",
    "#    df_all[\"breadcrumbs\"]\n",
    "#        .map(lambda x: {\"breadcrumbs_{}\".format(idx):val for idx,val in enumerate(x) })\n",
    "#        .apply(pd.Series)\n",
    "#)\n",
    "#\n",
    "#for feat in breadcrumbs.columns:\n",
    "#    df_all[\"{}_cat\".format(feat)] = breadcrumbs[feat].factorize()[0]    \n",
    "    \n",
    "    \n",
    "print(\"#### extract breadcrumbs 2\")\n",
    "df_all[\"breadcrumbs_MCK\"] = df_all.apply(lambda df: split_breadcrumbs(df[\"breadcrumbs\"],\"МЦК \"), axis=1)\n",
    "#df_all[\"breadcrumbs_STR\"] = df_all.apply(lambda df: split_breadcrumbs(df[\"breadcrumbs\"],\"ул. \"), axis=1)\n",
    "df_all = df_all.merge(metro_stations, how=\"left\", on=[\"breadcrumbs_MCK\"])    \n",
    "\n",
    "df_all[\"N_cat\"] = df_all[\"N_cat\"].fillna(-1)\n",
    "df_all[\"E_cat\"] = df_all[\"E_cat\"].fillna(-1)\n",
    "df_all[\"dist_to_red_square_cat\"] = df_all[\"dist_to_red_square_cat\"].fillna(-1)\n",
    "df_all[\"dist_to_airport_Szere_cat\"] = df_all[\"dist_to_airport_Szere_cat\"].fillna(-1)\n",
    "df_all[\"dist_to_airport_Domod_cat\"] = df_all[\"dist_to_airport_Domod_cat\"].fillna(-1)\n",
    "df_all[\"dist_to_airport_Wnuko_cat\"] = df_all[\"dist_to_airport_Wnuko_cat\"].fillna(-1)\n",
    "\n",
    "df_all['breadcrumbs_MCK_cat'] = pd.factorize(df_all['breadcrumbs_MCK'])[0]\n",
    "\n",
    "df_all[\"breadcrumbs_count_cat\"] = df_all[\"breadcrumbs\"].apply(lambda x: len(str(x).split(\",\")))\n",
    "\n",
    "print(\"#### extract date\")\n",
    "df_all[\"date_0\"] = df_all.apply(lambda df: split_date(df[\"date\"],0), axis=1)\n",
    "df_all[\"date_1\"] = df_all.apply(lambda df: split_date(df[\"date\"],1), axis=1)\n",
    "df_all[\"date_2\"] = df_all.apply(lambda df: split_date(df[\"date\"],2), axis=1)\n",
    "\n",
    "df_all[\"date_day_no\"] = df_all.apply(lambda df: split_date_DMY(df[\"date_0\"],0), axis=1)\n",
    "df_all[\"date_0_1\"] = df_all.apply(lambda df: split_date_DMY(df[\"date_0\"],1), axis=1)\n",
    "df_all[\"date_year_cat\"] = df_all.apply(lambda df: split_date_DMY(df[\"date_0\"],2), axis=1)\n",
    "\n",
    "df_all = df_all.merge(month, how=\"left\", on=[\"date_0_1\"])\n",
    "\n",
    "df_all[\"date_month_cat\"] = df_all[\"date_month_cat\"].fillna(-10)\n",
    "df_all[\"date_1_cat\"] = pd.factorize(df_all['date_1'])[0]\n",
    "\n",
    "df_all = df_all.astype({\n",
    "                        \"date_month_cat\": int, \n",
    "                        \"date_year_cat\": int}\n",
    "                       )\n",
    "\n",
    "max_year = df_all[\"date_year_cat\"].max()\n",
    "\n",
    "#find data in last year\n",
    "df_in_last_year = df_all[\"date_year_cat\"] == -1\n",
    "df_all.loc[df_in_last_year,\"date_year_cat\"] = max_year + 1\n",
    "\n",
    "\n",
    "max_month = df_all[\"date_month_cat\"].where(df_in_last_year).max()\n",
    "df_in_last_month = df_all[\"date_month_cat\"] == -10\n",
    "df_all.loc[df_in_last_month,\"date_month_cat\"] = max_month\n",
    "\n",
    "max_new_year = df_all[\"date_year_cat\"].max()\n",
    "df_in_new_year = df_all[\"date_year_cat\"] == max_new_year\n",
    "max_new_month = df_all[\"date_month_cat\"][df_in_new_year].max()#.astype(int)\n",
    "df_in_new_year_month = df_all[\"date_month_cat\"] == max_new_month\n",
    "max_new_day = int(df_all[\"date_day_no\"][df_in_new_year & df_in_new_year_month].max())\n",
    "\n",
    "df_all[\"date_day_\"] = df_all[\"date_day_no\"].apply(lambda x : int(x) + max_new_day  if \"+\" in x else x)\n",
    "\n",
    "df_all = df_all.astype({\n",
    "                        \"date_month_cat\": int, \n",
    "                        \"date_year_cat\": int, \n",
    "                        \"date_day_\": int}\n",
    "                       )\n",
    "\n",
    "df_all[\"year\"] = df_all[\"date_year_cat\"]\n",
    "df_all[\"month\"] = df_all[\"date_month_cat\"]\n",
    "df_all[\"day\"] = df_all[\"date_day_\"]\n",
    "df_all[\"date_date\"] = pd.to_datetime(df_all[[\"year\",\"month\",\"day\"]])\n",
    "df_all[\"date_week_cat\"] = df_all[\"date_date\"].dt.week\n",
    "df_all[\"date_dayodweek_cat\"] = df_all[\"date_date\"].dt.dayofweek\n",
    "\n",
    "print(\"#### extract owner\")\n",
    "df_all[\"owner_cat\"] = df_all[\"owner\"].apply(lambda x: 1 if len(str(x)) > 2 else 0)\n",
    "\n",
    "\n",
    "print(\"#### extract area\")\n",
    "df_all[\"Общая площадь:\"].map(lambda x: float(x.split(\"м\")[0].replace(\" \", \"\")) )\n",
    "\n",
    "df_all[\"area\"] = df_all[\"Общая площадь:\"].map(parse_area)\n",
    "\n",
    "print(\"############ end extract\")     "
   ]
  },
  {
   "cell_type": "code",
   "execution_count": 7,
   "id": "f86fd474-aea9-4b98-aa00-af2f2f8ab530",
   "metadata": {
    "execution": {
     "iopub.execute_input": "2021-07-04T17:08:17.407191Z",
     "iopub.status.busy": "2021-07-04T17:08:17.406190Z",
     "iopub.status.idle": "2021-07-04T17:08:17.414191Z",
     "shell.execute_reply": "2021-07-04T17:08:17.414191Z",
     "shell.execute_reply.started": "2021-07-04T17:08:17.407191Z"
    },
    "tags": []
   },
   "outputs": [],
   "source": [
    "#breadcrumbs = (\n",
    "#    df_all[\"breadcrumbs\"]\n",
    "#        .map(lambda x: {\"breadcrumbs_{}\".format(idx):val for idx,val in enumerate(x) })\n",
    "#        .apply(pd.Series)\n",
    "#)\n",
    "#\n",
    "#for feat in breadcrumbs.columns:\n",
    "#    #print(feat)\n",
    "#    #print(breadcrumbs[feat].value_counts().head(20))\n",
    "#    #print(\"=\"*100)\n",
    "#    #print()\n",
    "#    \n",
    "#\n",
    "#    df_all[\"{}_cat\".format(feat)] = breadcrumbs[feat].factorize()[0]"
   ]
  },
  {
   "cell_type": "code",
   "execution_count": 8,
   "id": "3c6888da-2ba8-47e3-9724-15072acd66a9",
   "metadata": {
    "execution": {
     "iopub.execute_input": "2021-07-04T17:08:17.693981Z",
     "iopub.status.busy": "2021-07-04T17:08:17.692981Z",
     "iopub.status.idle": "2021-07-04T17:08:17.710985Z",
     "shell.execute_reply": "2021-07-04T17:08:17.710985Z",
     "shell.execute_reply.started": "2021-07-04T17:08:17.693981Z"
    },
    "tags": []
   },
   "outputs": [],
   "source": [
    "#df_all.info(verbose=True, null_counts=True)"
   ]
  },
  {
   "cell_type": "code",
   "execution_count": 7,
   "id": "3c2c20dc-0205-452e-9219-76952247e658",
   "metadata": {
    "execution": {
     "iopub.execute_input": "2021-07-05T17:36:00.283145Z",
     "iopub.status.busy": "2021-07-05T17:36:00.283145Z",
     "iopub.status.idle": "2021-07-05T17:36:00.427177Z",
     "shell.execute_reply": "2021-07-05T17:36:00.427177Z",
     "shell.execute_reply.started": "2021-07-05T17:36:00.283145Z"
    },
    "tags": []
   },
   "outputs": [
    {
     "name": "stdout",
     "output_type": "stream",
     "text": [
      "#### extract area\n",
      "#### extract kitchen_area\n",
      "#### extract ceiling_height\n",
      "#### extract living_room\n",
      "#### extract mumber_of_rooms\n"
     ]
    }
   ],
   "source": [
    "print(\"#### extract area\")\n",
    "df_all[\"Общая площадь:\"].map(lambda x: float(x.split(\"м\")[0].replace(\" \", \"\")) )\n",
    "df_all[\"area\"] = df_all[\"Общая площадь:\"].map(parse_area)\n",
    "\n",
    "print(\"#### extract kitchen_area\")\n",
    "df_all[\"kitchen_area\"] = df_all[\"Площадь кухни:\"].map(parse_area)\n",
    "\n",
    "print(\"#### extract ceiling_height\")\n",
    "df_all[\"ceiling_height\"] = df_all[\"Высота потолков:\"].map(parse_area)\n",
    "\n",
    "print(\"#### extract living_room\")\n",
    "df_all[\"living_room\"] = df_all[\"Жилая комната:\"].map(parse_area)\n",
    "\n",
    "print(\"#### extract mumber_of_rooms\")\n",
    "df_all[\"mumber_of_rooms\"] = df_all[\"Количество комнат:\"].map(parse_area)\n"
   ]
  },
  {
   "cell_type": "code",
   "execution_count": 8,
   "id": "cef47c65-4a27-4ef9-b846-9ac7dc1a36e8",
   "metadata": {
    "execution": {
     "iopub.execute_input": "2021-07-05T17:36:04.475057Z",
     "iopub.status.busy": "2021-07-05T17:36:04.475057Z",
     "iopub.status.idle": "2021-07-05T17:36:04.606463Z",
     "shell.execute_reply": "2021-07-05T17:36:04.606463Z",
     "shell.execute_reply.started": "2021-07-05T17:36:04.475057Z"
    },
    "tags": []
   },
   "outputs": [],
   "source": [
    "#df_all[\"Количество этажей:\"]\n",
    "df_all = df_all.astype({\n",
    "                        \"Количество корпусов:\": int,\n",
    "                        \"Количество этажей:\": int,\n",
    "                        \"Количество квартир:\": int,\n",
    "                        \"Предоплата:\": int}\n",
    "                       )"
   ]
  },
  {
   "cell_type": "code",
   "execution_count": 10,
   "id": "41d81cce-0f1f-48e1-a878-fcfa55194a99",
   "metadata": {
    "execution": {
     "iopub.execute_input": "2021-07-05T17:36:15.139643Z",
     "iopub.status.busy": "2021-07-05T17:36:15.139643Z",
     "iopub.status.idle": "2021-07-05T17:36:15.379894Z",
     "shell.execute_reply": "2021-07-05T17:36:15.379894Z",
     "shell.execute_reply.started": "2021-07-05T17:36:15.139643Z"
    },
    "tags": []
   },
   "outputs": [
    {
     "name": "stdout",
     "output_type": "stream",
     "text": [
      "feats:  88\n",
      "['Охрана:_cat', 'Тип здания:_cat', 'Тип объекта:_cat', 'Количество корпусов:_cat', 'Тип объявления:_cat', 'Застройщик:_cat', 'Общая площадь:_cat', 'Дата публикации:_cat', 'Количество комнат:_cat', 'Парковка:_cat', 'Дата  обновления:_cat', 'Количество этажей:_cat', 'Сдача:_cat', 'Комиссия агенту:_cat', 'Высота потолков:_cat', 'Этаж:_cat', 'Этап строительства:_cat', 'Новостройка:_cat', 'Количество квартир:_cat', 'Класс жилья:_cat', 'Адрес:_cat', 'Лифт:_cat', 'Вид из окна:_cat', 'Возможна ипотека:_cat', 'Год постройки:_cat', 'Этажность:_cat', 'Мусоропровод:_cat', 'Ремонт:_cat', 'Площадь кухни:_cat', 'Жилая комната:_cat', 'Тип санузла:_cat', 'Тип балкона:_cat', 'Мебель на кухне:_cat', 'Холодильник:_cat', 'Интернет:_cat', 'Мебель:_cat', 'Телефон:_cat', 'Свободная планировка:_cat', 'Управляющая компания:_cat', 'Количество подъездов:_cat', 'Тип дома:_cat', 'Тип комнат:_cat', 'Покрытие пола:_cat', 'Серия:_cat', 'Тип перекрытия:_cat', 'Возможен торг:_cat', 'Класс:_cat', 'Телевизор:_cat', 'Тип фундамента:_cat', 'Количество жилых помещений:_cat', 'Детская площадка:_cat', 'Стиральная машина:_cat', 'Наибольшее количество этажей:_cat', 'Наименьшее количество этажей:_cat', 'Предоплата:_cat', 'geo_block_0_cat', 'geo_block_1_cat', 'geo_block_2_cat', 'geo_block_3_cat', 'geo_block_4_cat', 'geo_block_5_cat', 'breadcrumbs0_cat', 'breadcrumbs1_cat', 'breadcrumbs2_cat', 'breadcrumbs3_cat', 'N_cat', 'E_cat', 'dist_to_red_square_cat', 'dist_to_airport_Szere_cat', 'dist_to_airport_Domod_cat', 'dist_to_airport_Wnuko_cat', 'breadcrumbs_MCK_cat', 'breadcrumbs_count_cat', 'date_year_cat', 'date_month_cat', 'date_1_cat', 'date_week_cat', 'date_dayodweek_cat', 'owner_cat', 'area', 'kitchen_area', 'ceiling_height', 'living_room', 'mumber_of_rooms', 'Количество этажей:', 'Количество корпусов:', 'Количество квартир:', 'Предоплата:']\n"
     ]
    }
   ],
   "source": [
    "\n",
    "feats = [x for x in df_all.columns if \"_cat\" in x]\n",
    "feats.append(\"area\")\n",
    "feats.append(\"kitchen_area\")\n",
    "feats.append(\"ceiling_height\")\n",
    "feats.append(\"living_room\")\n",
    "feats.append(\"mumber_of_rooms\")\n",
    "feats.append(\"Количество этажей:\")\n",
    "feats.append(\"Количество корпусов:\")\n",
    "feats.append(\"Количество квартир:\")\n",
    "feats.append(\"Предоплата:\")\n",
    "\n",
    "#feats_tmp = df_all[ False ==  df_all[\"price\"].isnull() ].select_dtypes(include= [np.int8,np.int16,np.int64]).columns.values\n",
    "feats_tmp = df_all[ False ==  df_all[\"price\"].isnull() ].select_dtypes(include= [np.int8,np.int16,np.int64]).columns.values\n",
    "#df_all[[x for x in df_all.columns if \"_cat\" in x]] = df_all[[x for x in df_all.columns if \"_cat\" in x]].astype(np.int)\n",
    "df_all[feats_tmp] = df_all[feats_tmp].astype(np.int)\n",
    "print(\"feats: \", len(feats))\n",
    "print(feats)\n"
   ]
  },
  {
   "cell_type": "code",
   "execution_count": 11,
   "id": "b6b4c919-8e68-4320-b6ed-01a4c73fcaba",
   "metadata": {
    "execution": {
     "iopub.execute_input": "2021-07-05T17:36:21.350159Z",
     "iopub.status.busy": "2021-07-05T17:36:21.350159Z",
     "iopub.status.idle": "2021-07-05T17:36:21.355160Z",
     "shell.execute_reply": "2021-07-05T17:36:21.355160Z",
     "shell.execute_reply.started": "2021-07-05T17:36:21.350159Z"
    },
    "tags": []
   },
   "outputs": [],
   "source": [
    "def check_log_model(df, feats, model, cv=5, scoring=\"neg_mean_absolute_error\"):\n",
    "    df_train = df[ ~df[\"price\"].isnull() ].copy()\n",
    "\n",
    "    X = df_train[feats]\n",
    "    y = df_train[\"price\"]\n",
    "    y_log = np.log(y)\n",
    "    \n",
    "    cv = KFold(n_splits=5, shuffle=True, random_state=0)\n",
    "    scores = []\n",
    "    for train_idx, test_idx in cv.split(X):\n",
    "        X_train, X_test = X.iloc[train_idx], X.iloc[test_idx]\n",
    "        y_log_train, y_test = y_log.iloc[train_idx], y.iloc[test_idx]\n",
    "\n",
    "        #model = xgb.XGBRegressor(max_depth=5, n_estimators=50, random_state=0)\n",
    "        model.fit(X_train, y_log_train)\n",
    "        y_log_pred = model.predict(X_test)\n",
    "        y_pred = np.exp(y_log_pred)\n",
    "\n",
    "        score = mean_absolute_error(y_test, y_pred)\n",
    "        scores.append(score)\n",
    "        \n",
    "    plot_learning_curve(model, X_train, y_log_train, cv=cv, random_state=0, shuffle=True)\n",
    "    plt.show()\n",
    "\n",
    "    return np.mean(scores), np.std(scores)"
   ]
  },
  {
   "cell_type": "code",
   "execution_count": 43,
   "id": "7d72d735-0b5e-4706-8cd9-403bc6b0a3b4",
   "metadata": {
    "execution": {
     "iopub.execute_input": "2021-07-04T19:35:54.319545Z",
     "iopub.status.busy": "2021-07-04T19:35:54.319545Z",
     "iopub.status.idle": "2021-07-04T19:38:50.490074Z",
     "shell.execute_reply": "2021-07-04T19:38:50.489074Z",
     "shell.execute_reply.started": "2021-07-04T19:35:54.319545Z"
    },
    "tags": []
   },
   "outputs": [
    {
     "data": {
      "image/png": "[encoded data removed]",
      "text/plain": [
       "<Figure size 432x288 with 1 Axes>"
      ]
     },
     "metadata": {
      "needs_background": "light"
     },
     "output_type": "display_data"
    },
    {
     "name": "stdout",
     "output_type": "stream",
     "text": [
      "Wall time: 2min 56s\n"
     ]
    },
    {
     "data": {
      "text/plain": [
       "(2.560009502907912, 0.32581368949950384)"
      ]
     },
     "execution_count": 43,
     "metadata": {},
     "output_type": "execute_result"
    }
   ],
   "source": [
    "model_ =xgb.XGBRegressor(base_score=0.5, booster='gbtree', colsample_bylevel=1,\n",
    "             colsample_bynode=1, colsample_bytree=1, gamma=0, gpu_id=-1,\n",
    "             importance_type='gain', interaction_constraints='',\n",
    "             learning_rate=0.1, max_delta_step=0, max_depth=8,\n",
    "             min_child_weight=1, monotone_constraints='()',\n",
    "             n_estimators=1000, n_jobs=-1, num_parallel_tree=1, random_state=0,\n",
    "             reg_alpha=0, reg_lambda=1, scale_pos_weight=1, subsample=1,\n",
    "             tree_method='exact', validate_parameters=1, verbosity=None)\n",
    "%time check_log_model(df_all, feats, model_)"
   ]
  },
  {
   "cell_type": "markdown",
   "id": "3495e15f-5ba6-4c43-8ebc-1ae0d98fd3a8",
   "metadata": {},
   "source": [
    "# ZAPISANIE PLIKU"
   ]
  },
  {
   "cell_type": "code",
   "execution_count": 44,
   "id": "baa8a7bc-3c95-436b-91c3-389e6771e746",
   "metadata": {
    "execution": {
     "iopub.execute_input": "2021-07-04T19:39:39.313534Z",
     "iopub.status.busy": "2021-07-04T19:39:39.312534Z",
     "iopub.status.idle": "2021-07-04T19:39:50.515105Z",
     "shell.execute_reply": "2021-07-04T19:39:50.515105Z",
     "shell.execute_reply.started": "2021-07-04T19:39:39.313534Z"
    },
    "tags": []
   },
   "outputs": [
    {
     "data": {
      "text/plain": [
       "XGBRegressor(base_score=0.5, booster='gbtree', colsample_bylevel=1,\n",
       "             colsample_bynode=1, colsample_bytree=1, gamma=0, gpu_id=-1,\n",
       "             importance_type='gain', interaction_constraints='',\n",
       "             learning_rate=0.1, max_delta_step=0, max_depth=8,\n",
       "             min_child_weight=1, missing=nan, monotone_constraints='()',\n",
       "             n_estimators=1000, n_jobs=-1, num_parallel_tree=1, random_state=0,\n",
       "             reg_alpha=0, reg_lambda=1, scale_pos_weight=1, subsample=1,\n",
       "             tree_method='exact', validate_parameters=1, verbosity=None)"
      ]
     },
     "execution_count": 44,
     "metadata": {},
     "output_type": "execute_result"
    }
   ],
   "source": [
    "df_train = df_all[ ~df_all[\"price\"].isnull() ].copy()\n",
    "df_test = df_all[ df_all[\"price\"].isnull() ].copy()\n",
    "\n",
    "X_train = df_train[feats]\n",
    "y_train = df_train[\"price\"]\n",
    "y_log_train = np.log(y_train)\n",
    "\n",
    "X_test = df_test[feats]\n",
    "\n",
    "model = xgb.XGBRegressor(base_score=0.5, booster='gbtree', colsample_bylevel=1,\n",
    "             colsample_bynode=1, colsample_bytree=1, gamma=0, gpu_id=-1,\n",
    "             importance_type='gain', interaction_constraints='',\n",
    "             learning_rate=0.1, max_delta_step=0, max_depth=8,\n",
    "             min_child_weight=1, monotone_constraints='()',\n",
    "             n_estimators=1000, n_jobs=-1, num_parallel_tree=1, random_state=0,\n",
    "             reg_alpha=0, reg_lambda=1, scale_pos_weight=1, subsample=1,\n",
    "             tree_method='exact', validate_parameters=1, verbosity=None)\n",
    "model.fit(X_train, y_log_train)\n",
    "y_log_pred = model.predict(X_test)\n",
    "y_pred = np.exp(y_log_pred)\n",
    "\n",
    "\n",
    "df_test[\"price\"] = y_pred\n",
    "df_test[ [\"id\", \"price\"] ].to_csv(\"_final_02_FindModel__score_.csv\", index=False)"
   ]
  },
  {
   "cell_type": "markdown",
   "id": "a95958d9-17ad-4311-94d7-4a7d28fab45d",
   "metadata": {},
   "source": [
    "# GridSearchCV"
   ]
  },
  {
   "cell_type": "code",
   "execution_count": 39,
   "id": "8d7c7a89-7415-4bc5-af24-389e9cb00e6e",
   "metadata": {
    "execution": {
     "iopub.execute_input": "2021-07-04T19:17:37.566472Z",
     "iopub.status.busy": "2021-07-04T19:17:37.566472Z",
     "iopub.status.idle": "2021-07-04T19:17:37.584036Z",
     "shell.execute_reply": "2021-07-04T19:17:37.583044Z",
     "shell.execute_reply.started": "2021-07-04T19:17:37.566472Z"
    },
    "tags": []
   },
   "outputs": [],
   "source": [
    "def check_log_model_GS(df, feats, model, param_grid, cv=5, scoring=\"neg_mean_absolute_error\"):\n",
    "    df_train = df[ ~df[\"price\"].isnull() ].copy()\n",
    "\n",
    "    X = df_train[feats]\n",
    "    y = df_train[\"price\"]\n",
    "    y_log = np.log(y)\n",
    "    \n",
    "    cv = KFold(n_splits=5, shuffle=True, random_state=0)\n",
    "    scores = []\n",
    "    for train_idx, test_idx in cv.split(X):\n",
    "        X_train, X_test = X.iloc[train_idx], X.iloc[test_idx]\n",
    "        y_log_train, y_test = y_log.iloc[train_idx], y.iloc[test_idx]\n",
    "\n",
    "        #model = xgb.XGBRegressor(max_depth=5, n_estimators=50, random_state=0)\n",
    "        model.fit(X_train, y_log_train)\n",
    "        y_log_pred = model.predict(X_test)\n",
    "        y_pred = np.exp(y_log_pred)\n",
    "        \n",
    "        grid = GridSearchCV(model, param_grid = param_grid, cv = 5, verbose = 3, n_jobs = -1,)\n",
    "        %time grid.fit(X_train, y_log_train)\n",
    "\n",
    "\n",
    "    return grid"
   ]
  },
  {
   "cell_type": "code",
   "execution_count": 40,
   "id": "a33e5209-fdf9-44f0-a064-a16e88c8ba51",
   "metadata": {
    "execution": {
     "iopub.execute_input": "2021-07-04T19:17:41.149262Z",
     "iopub.status.busy": "2021-07-04T19:17:41.149262Z",
     "iopub.status.idle": "2021-07-04T19:17:41.156263Z",
     "shell.execute_reply": "2021-07-04T19:17:41.156263Z",
     "shell.execute_reply.started": "2021-07-04T19:17:41.149262Z"
    },
    "tags": []
   },
   "outputs": [],
   "source": [
    "from sklearn.model_selection import GridSearchCV\n",
    "\n",
    "param_grid = {\n",
    "#    'n_estimators': [50, 200, 400, 600],\n",
    "#    'max_depth': [5, 10, 20, 30],\n",
    "#    'learning_rate': [0.1, 0.05],\n",
    "#    'random_state': [0, 20, 40],\n",
    "#    'n_jobs': [-1]\n",
    "    'n_estimators': [700, 800, 900, 1000],\n",
    "    'max_depth': [8, 12],\n",
    "    'learning_rate': [0.1],\n",
    "    'random_state': [0],\n",
    "    'n_jobs': [-1]    \n",
    "}\n"
   ]
  },
  {
   "cell_type": "code",
   "execution_count": 41,
   "id": "d4289f9b-8f40-4e17-b569-763398f04f6c",
   "metadata": {
    "execution": {
     "iopub.execute_input": "2021-07-04T19:17:43.789747Z",
     "iopub.status.busy": "2021-07-04T19:17:43.789747Z",
     "iopub.status.idle": "2021-07-04T19:34:24.491398Z",
     "shell.execute_reply": "2021-07-04T19:34:24.490397Z",
     "shell.execute_reply.started": "2021-07-04T19:17:43.789747Z"
    },
    "tags": []
   },
   "outputs": [
    {
     "name": "stdout",
     "output_type": "stream",
     "text": [
      "Fitting 5 folds for each of 8 candidates, totalling 40 fits\n",
      "Wall time: 3min 13s\n",
      "Fitting 5 folds for each of 8 candidates, totalling 40 fits\n",
      "Wall time: 3min 18s\n",
      "Fitting 5 folds for each of 8 candidates, totalling 40 fits\n",
      "Wall time: 3min 28s\n",
      "Fitting 5 folds for each of 8 candidates, totalling 40 fits\n",
      "Wall time: 3min 20s\n",
      "Fitting 5 folds for each of 8 candidates, totalling 40 fits\n",
      "Wall time: 3min 15s\n",
      "Wall time: 16min 40s\n"
     ]
    }
   ],
   "source": [
    "%time best_estimator = check_log_model_GS(df_all, feats, xgb.XGBRegressor(), param_grid)"
   ]
  },
  {
   "cell_type": "code",
   "execution_count": 42,
   "id": "89e02c1f-a258-4bee-806c-1ec28123bf9f",
   "metadata": {
    "execution": {
     "iopub.execute_input": "2021-07-04T19:35:13.007008Z",
     "iopub.status.busy": "2021-07-04T19:35:13.007008Z",
     "iopub.status.idle": "2021-07-04T19:35:13.017010Z",
     "shell.execute_reply": "2021-07-04T19:35:13.017010Z",
     "shell.execute_reply.started": "2021-07-04T19:35:13.007008Z"
    },
    "tags": []
   },
   "outputs": [
    {
     "data": {
      "text/plain": [
       "XGBRegressor(base_score=0.5, booster='gbtree', colsample_bylevel=1,\n",
       "             colsample_bynode=1, colsample_bytree=1, gamma=0, gpu_id=-1,\n",
       "             importance_type='gain', interaction_constraints='',\n",
       "             learning_rate=0.1, max_delta_step=0, max_depth=8,\n",
       "             min_child_weight=1, missing=nan, monotone_constraints='()',\n",
       "             n_estimators=1000, n_jobs=-1, num_parallel_tree=1, random_state=0,\n",
       "             reg_alpha=0, reg_lambda=1, scale_pos_weight=1, subsample=1,\n",
       "             tree_method='exact', validate_parameters=1, verbosity=None)"
      ]
     },
     "execution_count": 42,
     "metadata": {},
     "output_type": "execute_result"
    }
   ],
   "source": [
    "best_estimator.best_estimator_"
   ]
  },
  {
   "cell_type": "code",
   "execution_count": null,
   "id": "d21d0d01-bfb2-4717-9094-fb54f793f8cc",
   "metadata": {},
   "outputs": [],
   "source": []
  }
 ],
 "metadata": {
  "kernelspec": {
   "display_name": "PyCaret",
   "language": "python",
   "name": "pycaret"
  },
  "language_info": {
   "codemirror_mode": {
    "name": "ipython",
    "version": 3
   },
   "file_extension": ".py",
   "mimetype": "text/x-python",
   "name": "python",
   "nbconvert_exporter": "python",
   "pygments_lexer": "ipython3",
   "version": "3.8.10"
  }
 },
 "nbformat": 4,
 "nbformat_minor": 5
}
